{
 "cells": [
  {
   "cell_type": "code",
   "execution_count": 1,
   "metadata": {},
   "outputs": [],
   "source": [
    "import pandas as pd"
   ]
  },
  {
   "cell_type": "code",
   "execution_count": 2,
   "metadata": {},
   "outputs": [
    {
     "data": {
      "text/html": [
       "<div>\n",
       "<style scoped>\n",
       "    .dataframe tbody tr th:only-of-type {\n",
       "        vertical-align: middle;\n",
       "    }\n",
       "\n",
       "    .dataframe tbody tr th {\n",
       "        vertical-align: top;\n",
       "    }\n",
       "\n",
       "    .dataframe thead th {\n",
       "        text-align: right;\n",
       "    }\n",
       "</style>\n",
       "<table border=\"1\" class=\"dataframe\">\n",
       "  <thead>\n",
       "    <tr style=\"text-align: right;\">\n",
       "      <th></th>\n",
       "      <th>kind</th>\n",
       "      <th>mimeType</th>\n",
       "      <th>id</th>\n",
       "      <th>name</th>\n",
       "    </tr>\n",
       "  </thead>\n",
       "  <tbody>\n",
       "    <tr>\n",
       "      <th>0</th>\n",
       "      <td>drive#file</td>\n",
       "      <td>application/pdf</td>\n",
       "      <td>1K_frc1cxbSo68mST937Or6z1-Dy3TkeG</td>\n",
       "      <td>2022_NMRDA_833433_6.pdf</td>\n",
       "    </tr>\n",
       "    <tr>\n",
       "      <th>1</th>\n",
       "      <td>drive#file</td>\n",
       "      <td>application/pdf</td>\n",
       "      <td>1Qvk4iVWQuT82WTs39N9HMdtp7vhoAScz</td>\n",
       "      <td>2022_NAGPU_852636_1.pdf</td>\n",
       "    </tr>\n",
       "    <tr>\n",
       "      <th>2</th>\n",
       "      <td>drive#file</td>\n",
       "      <td>application/pdf</td>\n",
       "      <td>1MeJIk-07TEnUvz4mK3j6RsilGoFqWpwj</td>\n",
       "      <td>2022_NAGPU_864424_1.pdf</td>\n",
       "    </tr>\n",
       "    <tr>\n",
       "      <th>3</th>\n",
       "      <td>drive#file</td>\n",
       "      <td>application/pdf</td>\n",
       "      <td>1FhcaHvTBkLN2i5ouSyhgYMFVERTKiYjv</td>\n",
       "      <td>2022_NAGPU_858876_1.pdf</td>\n",
       "    </tr>\n",
       "    <tr>\n",
       "      <th>4</th>\n",
       "      <td>drive#file</td>\n",
       "      <td>application/pdf</td>\n",
       "      <td>1YQ791vO3Tu7_sUb7JswsTX-K-Erz4gLP</td>\n",
       "      <td>2022_NAGPU_846739_1.pdf</td>\n",
       "    </tr>\n",
       "  </tbody>\n",
       "</table>\n",
       "</div>"
      ],
      "text/plain": [
       "         kind         mimeType                                 id  \\\n",
       "0  drive#file  application/pdf  1K_frc1cxbSo68mST937Or6z1-Dy3TkeG   \n",
       "1  drive#file  application/pdf  1Qvk4iVWQuT82WTs39N9HMdtp7vhoAScz   \n",
       "2  drive#file  application/pdf  1MeJIk-07TEnUvz4mK3j6RsilGoFqWpwj   \n",
       "3  drive#file  application/pdf  1FhcaHvTBkLN2i5ouSyhgYMFVERTKiYjv   \n",
       "4  drive#file  application/pdf  1YQ791vO3Tu7_sUb7JswsTX-K-Erz4gLP   \n",
       "\n",
       "                      name  \n",
       "0  2022_NMRDA_833433_6.pdf  \n",
       "1  2022_NAGPU_852636_1.pdf  \n",
       "2  2022_NAGPU_864424_1.pdf  \n",
       "3  2022_NAGPU_858876_1.pdf  \n",
       "4  2022_NAGPU_846739_1.pdf  "
      ]
     },
     "execution_count": 2,
     "metadata": {},
     "output_type": "execute_result"
    }
   ],
   "source": [
    "df = pd.read_excel(\"E:\\Projects\\GCP Integration\\Drive\\Work Orders.xlsx\")\n",
    "df.head()"
   ]
  },
  {
   "cell_type": "code",
   "execution_count": 25,
   "metadata": {},
   "outputs": [
    {
     "name": "stdout",
     "output_type": "stream",
     "text": [
      "2022_PWR_808483_1 (1).pdf\n",
      "2022_PWR_808483_1.pdf\n",
      "2023_PWR_884035_1 (2).pdf\n",
      "2023_PWR_884035_1.pdf\n",
      "2022_PWPIU_214675_1 (1).pdf\n",
      "2022_PWPIU_214675_1.pdf\n",
      "2022_PWPIU_212064_1 (2).pdf\n",
      "2022_PWPIU_212064_1.pdf\n",
      "2022_PWPIU_212064_1 (1).pdf\n",
      "2022_PWPIU_212064_1.pdf\n",
      "2022_WRD_180279_1 (1).pdf\n",
      "2022_WRD_180279_1.pdf\n",
      "2022_WBRRD_214754_1 (2).pdf\n",
      "2022_WBRRD_214754_1.pdf\n",
      "2022_WBRRD_214754_1 (1).pdf\n",
      "2022_WBRRD_214754_1.pdf\n"
     ]
    }
   ],
   "source": [
    "for item in df['name']:\n",
    "    if \"(\" in item:\n",
    "        file_name = item.split(\" \")[0] + \".pdf\"\n",
    "        print(item)\n",
    "        print(file_name)"
   ]
  },
  {
   "cell_type": "code",
   "execution_count": null,
   "metadata": {},
   "outputs": [],
   "source": []
  },
  {
   "cell_type": "code",
   "execution_count": null,
   "metadata": {},
   "outputs": [],
   "source": []
  }
 ],
 "metadata": {
  "kernelspec": {
   "display_name": "Python 3",
   "language": "python",
   "name": "python3"
  },
  "language_info": {
   "codemirror_mode": {
    "name": "ipython",
    "version": 3
   },
   "file_extension": ".py",
   "mimetype": "text/x-python",
   "name": "python",
   "nbconvert_exporter": "python",
   "pygments_lexer": "ipython3",
   "version": "3.11.4"
  }
 },
 "nbformat": 4,
 "nbformat_minor": 2
}
